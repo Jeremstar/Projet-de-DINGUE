{
  "nbformat": 4,
  "nbformat_minor": 0,
  "metadata": {
    "colab": {
      "provenance": [],
      "authorship_tag": "ABX9TyPx58qF6Jnb2GrhlYxIQjiA",
      "include_colab_link": true
    },
    "kernelspec": {
      "name": "python3",
      "display_name": "Python 3"
    },
    "language_info": {
      "name": "python"
    }
  },
  "cells": [
    {
      "cell_type": "markdown",
      "metadata": {
        "id": "view-in-github",
        "colab_type": "text"
      },
      "source": [
        "<a href=\"https://colab.research.google.com/github/Jeremstar/Projet-de-DINGUE/blob/main/le_futur_du_cin%C3%A9ma.ipynb\" target=\"_parent\"><img src=\"https://colab.research.google.com/assets/colab-badge.svg\" alt=\"Open In Colab\"/></a>"
      ]
    },
    {
      "cell_type": "code",
      "execution_count": null,
      "metadata": {
        "id": "MPPnIrxY6kog"
      },
      "outputs": [],
      "source": [
        "# -*- coding: utf-8 -*-\n",
        "\"\"\"\n",
        "Created on Fri Nov 18 10:13:24 2022\n",
        "\n",
        "@author: jbornet\n",
        "\"\"\"\n",
        "\n",
        "'''\n",
        "On importe de quoi scrap, de quoi faire des requêtes http, et pandas pour les dataframes\n",
        "\n",
        "from bs4 import BeautifulSoup\n",
        "import pandas as pd\n",
        "import requests\n",
        "\n",
        "#Test sur la page du box-office\n",
        "url = \"https://fr.wikipedia.org/wiki/Liste_des_plus_gros_succ%C3%A8s_du_box-office_mondial\"\n",
        "reponse = requests.get(url)\n",
        "html = BeautifulSoup(reponse.text)\n",
        "tableau = html.find_all('table')[0]\n",
        "df = pd.read_html(str(tableau))[0]\n",
        "\n",
        "df.head(5)\n",
        "'''\n",
        "\n",
        "import pandas as pd\n",
        "movies_rating_source = pd.read_csv(\"https://datasets.imdbws.com/title.ratings.tsv.gz\")\n",
        "movies_rating_source = movies_rating_source[\"tconst\\taverageRating\\tnumVotes\"].str.split(\"\\\\t\", expand=True)"
      ]
    }
  ]
}