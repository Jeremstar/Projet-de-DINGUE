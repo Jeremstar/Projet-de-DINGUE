{
 "cells": [
  {
   "cell_type": "code",
   "execution_count": null,
   "id": "401f27b5-073e-47df-97ad-c88a2e6bc361",
   "metadata": {},
   "outputs": [],
   "source": [
    "#Idées d'enchainement des stats des pour une interprétation logique"
   ]
  },
  {
   "cell_type": "code",
   "execution_count": null,
   "id": "1a449293-5c0c-4966-bde3-697a4dd4c2de",
   "metadata": {},
   "outputs": [],
   "source": [
    "'''\n",
    "graphe évolution dans le temps du nb de films sortis\n",
    "\n",
    "\n",
    "en restant sur le temps => est-ce que dans une même année il y a des diff entre les nb de films sortis ?\n",
    "on ajoute sur le même grahe les notes moyennes par mois => eh mais y a une corrélation là\n",
    "Les gens préfèrent aller au cinéma en hiver, donc les sociétés de production mettent le paquet et sortent leurs meilleurs\n",
    "films dans ces périodes là + sortent aussi plus de films \n",
    "\n",
    "faire la même (diagrammes à batons 2 couleurs) mais pour notes et nb de votes (par mois donc) => il doit y avoir corrélation normalement\n",
    "graphe vert qui donne la relation entre nombre de votes et notes => les films les plus connus sont les mieux notés ??\n",
    "\n",
    "\n",
    "sur une année, des différences selon le thème du film ?\n",
    "test sur les films de Noël \n",
    "=> ici prendre en compte la période de l'année est important (on sera sûrement plus enclin à donner une bonne note à un film de Noël sorti à Noël,\n",
    "et en même temps la concurrence est rude entre les contenus sur ce thème pendant cette période), donc pertinence de prendre le mois comme \n",
    "variable de contrôle\n",
    "=> on peut justifier aussi de prendre le genre comme variable de contrôle (il donne une idée du thème, celui-ci étant précisé par les keywords, qui\n",
    "                                                                           seront difficilement intégrables dans le type de modèle que l'on va faire\n",
    "                                                                           du fait de leur nombre important)\n",
    "\n",
    "#en rapport avec les scores des acteurs et réalisateurs\n",
    "graphe corrélation pondération scores acteurs et note du film ? sans pondération ?\n",
    "graphe corrélation score director(s) et note du film ?\n",
    "corrélation scores acteurs/score director ?\n",
    "on peut aussi se demander si score des acteurs/directors élevés => nb de votes élevés (film plus connu) ?\n",
    "\n",
    "=> il faudrait donc tester l'ensemble de ces hypothèses dans une régression linéaire multiple, bla bla bla\n",
    "\n",
    "'''"
   ]
  },
  {
   "cell_type": "code",
   "execution_count": null,
   "id": "58afafcd-04ca-45c9-8e60-53a2b105cbf7",
   "metadata": {},
   "outputs": [],
   "source": [
    "Pour la régression : \n",
    "    1 Avec la moyenne du score des acteurs + la moyenne des scores des directors (ou son score si il est seul) + le genre + la durée + \n",
    "    2 Avec le score des 5 premiers acteurs, pondéré comme suit (1/2 ; 1/4 ; 1/8 ; 1/16 ; 1/16) => est-ce que la prédiction est meilleure ?\n",
    "    3 Avec le mois en variable de contrôle ? => same ?\n",
    "    4 En passant le genre en variable de contrôle également ? (en vrai ça parait logique de le faire depuis le début mais bon)"
   ]
  }
 ],
 "metadata": {
  "kernelspec": {
   "display_name": "Python 3 (ipykernel)",
   "language": "python",
   "name": "python3"
  },
  "language_info": {
   "codemirror_mode": {
    "name": "ipython",
    "version": 3
   },
   "file_extension": ".py",
   "mimetype": "text/x-python",
   "name": "python",
   "nbconvert_exporter": "python",
   "pygments_lexer": "ipython3",
   "version": "3.10.4"
  }
 },
 "nbformat": 4,
 "nbformat_minor": 5
}
