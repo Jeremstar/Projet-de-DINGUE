{
 "cells": [
  {
   "cell_type": "code",
   "execution_count": null,
   "id": "250ff6be-7fa4-449e-a045-3ead87632f0b",
   "metadata": {},
   "outputs": [],
   "source": [
    "from sklearn.linear_model import LinearRegression\n",
    "from sklearn.model_selection import train_test_split\n",
    "from matplotlib import pyplot as plt\n",
    "df_regression = df_mois_binaires.copy()\n",
    "\n",
    "\n",
    "\n",
    "X = df_regression[['ID','Jun', 'Oct', 'May', 'Jan', 'Aug', 'Mar', 'Apr', 'Dec', 'Sep','Jul', 'Feb', 'Nov']].dropna()\n",
    "y = df_regression[['ID', 'Note_moyenne']].dropna()\n",
    "df_filtrage = pd.merge(X, y, on='ID')\n",
    "\n",
    "X = df_filtrage[['Jun', 'Oct', 'May', 'Jan', 'Aug', 'Mar', 'Apr', 'Dec', 'Sep','Jul', 'Feb', 'Nov']]\n",
    "y = df_filtrage['Note_moyenne'].dropna()\n",
    "\n",
    "\n",
    "X_train, X_test, y_train, y_test = train_test_split(X, y, test_size=0.2)\n",
    "model = LinearRegression()\n",
    "model.fit(X_train, y_train)\n",
    "y_pred = model.predict(X_test)\n",
    "\n",
    "plt.scatter(y_test, y_pred, s=6, c='black')\n",
    "plt.xlabel('Valeurs réelles')\n",
    "plt.ylabel('Prédictions')\n",
    "\n",
    "min_val = min(y_test.min(), y_pred.min())\n",
    "max_val = max(y_test.max(), y_pred.max())\n",
    "\n",
    "plt.plot([min_val, max_val], [min_val, max_val])\n",
    "              "
   ]
  },
  {
   "cell_type": "code",
   "execution_count": null,
   "id": "e55ef2bc-8761-41ed-877c-f065a82d59ec",
   "metadata": {},
   "outputs": [],
   "source": [
    "df_regression = df_genres_binaires.copy()\n",
    "\n",
    "X = df_regression[['ID', \"'Short'\", \"'Comedy'\", \"'Documentary'\", \"'Horror'\", \"'Fantasy'\",\n",
    "       \"'Action'\", \"'Adventure'\", \"'Family'\", \"'Animation'\", \"'Crime'\",\n",
    "       \"'Drama'\", \"'History'\", \"'War'\", \"'Sport'\", \"'Romance'\",\n",
    "       \"'Mystery'\", \"'Thriller'\", \"'Sci-Fi'\", \"'Western'\", \"'Biography'\",\n",
    "       \"'Music'\", \"'Musical'\", \"'Film-Noir'\", \"'News'\", \"'Talk-Show'\",\n",
    "       \"'Adult'\", \"'Game-Show'\", \"'Reality-TV'\"]].dropna()\n",
    "y = df_regression[['ID', 'Note_moyenne']].dropna()\n",
    "df_filtrage = pd.merge(X, y, on='ID')\n",
    "\n",
    "X = df_filtrage[[\"'Short'\", \"'Comedy'\", \"'Documentary'\", \"'Horror'\", \"'Fantasy'\",\n",
    "       \"'Action'\", \"'Adventure'\", \"'Family'\", \"'Animation'\", \"'Crime'\",\n",
    "       \"'Drama'\", \"'History'\", \"'War'\", \"'Sport'\", \"'Romance'\",\n",
    "       \"'Mystery'\", \"'Thriller'\", \"'Sci-Fi'\", \"'Western'\", \"'Biography'\",\n",
    "       \"'Music'\", \"'Musical'\", \"'Film-Noir'\", \"'News'\", \"'Talk-Show'\",\n",
    "       \"'Adult'\", \"'Game-Show'\", \"'Reality-TV'\"]]\n",
    "y = df_filtrage['Note_moyenne'].dropna()\n",
    "\n",
    "\n",
    "X_train, X_test, y_train, y_test = train_test_split(X, y, test_size=0.2)\n",
    "model = LinearRegression()\n",
    "model.fit(X_train, y_train)\n",
    "y_pred = model.predict(X_test)\n",
    "\n",
    "plt.scatter(y_test, y_pred, s=6, c='black')\n",
    "plt.xlabel('Valeurs réelles')\n",
    "plt.ylabel('Prédictions')\n",
    "\n",
    "min_val = min(y_test.min(), y_pred.min())\n",
    "max_val = max(y_test.max(), y_pred.max())\n",
    "\n",
    "plt.plot([min_val, max_val], [min_val, max_val])\n",
    "              "
   ]
  }
 ],
 "metadata": {
  "kernelspec": {
   "display_name": "Python 3 (ipykernel)",
   "language": "python",
   "name": "python3"
  },
  "language_info": {
   "codemirror_mode": {
    "name": "ipython",
    "version": 3
   },
   "file_extension": ".py",
   "mimetype": "text/x-python",
   "name": "python",
   "nbconvert_exporter": "python",
   "pygments_lexer": "ipython3",
   "version": "3.10.4"
  }
 },
 "nbformat": 4,
 "nbformat_minor": 5
}
