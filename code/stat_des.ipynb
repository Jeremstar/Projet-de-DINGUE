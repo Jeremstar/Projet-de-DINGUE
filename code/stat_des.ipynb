{
 "cells": [
  {
   "cell_type": "code",
   "execution_count": null,
   "id": "1a1412c9-60af-434c-8609-a07e291b57db",
   "metadata": {},
   "outputs": [],
   "source": [
    "#Une fois le dataframe complet optimisé, on peut mener l'analyse en stats descriptives"
   ]
  },
  {
   "cell_type": "code",
   "execution_count": null,
   "id": "dca50315-a309-42a0-a06f-83a1b37327a1",
   "metadata": {},
   "outputs": [],
   "source": [
    "#récupérer la base de données complète"
   ]
  },
  {
   "cell_type": "code",
   "execution_count": null,
   "id": "40221771-f7c9-44ce-889d-faf1ef8b783f",
   "metadata": {},
   "outputs": [],
   "source": [
    "df_ratings_test.describe()"
   ]
  },
  {
   "cell_type": "code",
   "execution_count": null,
   "id": "927b552e-c13d-4a74-81b0-0ba7b407df19",
   "metadata": {},
   "outputs": [],
   "source": [
    "df_ratings_test['Note_moyenne'].hist()"
   ]
  },
  {
   "cell_type": "code",
   "execution_count": null,
   "id": "7ef54df6-b10d-4886-9227-c5b026dc14fa",
   "metadata": {},
   "outputs": [],
   "source": [
    "df_ratings_test.groupby('Origine').mean()"
   ]
  },
  {
   "cell_type": "code",
   "execution_count": null,
   "id": "89bf5f72-191b-4b3e-a3eb-1f78ff2f66de",
   "metadata": {},
   "outputs": [],
   "source": [
    "df_ratings_test.groupby('month').mean()"
   ]
  },
  {
   "cell_type": "code",
   "execution_count": null,
   "id": "4e5d50f0-cbf8-46f6-b36d-451352c9f820",
   "metadata": {},
   "outputs": [],
   "source": [
    "df_ratings_test.groupby(['month','Origine']).mean()"
   ]
  }
 ],
 "metadata": {
  "kernelspec": {
   "display_name": "Python 3 (ipykernel)",
   "language": "python",
   "name": "python3"
  },
  "language_info": {
   "codemirror_mode": {
    "name": "ipython",
    "version": 3
   },
   "file_extension": ".py",
   "mimetype": "text/x-python",
   "name": "python",
   "nbconvert_exporter": "python",
   "pygments_lexer": "ipython3",
   "version": "3.10.4"
  }
 },
 "nbformat": 4,
 "nbformat_minor": 5
}
