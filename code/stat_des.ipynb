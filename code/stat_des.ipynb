{
 "cells": [
  {
   "cell_type": "code",
   "execution_count": null,
   "id": "1a1412c9-60af-434c-8609-a07e291b57db",
   "metadata": {},
   "outputs": [],
   "source": [
    "#Une fois le dataframe complet optimisé, on peut mener l'analyse en stats descriptives"
   ]
  },
  {
   "cell_type": "code",
   "execution_count": 134,
   "id": "ef070250-863d-4de8-8f3a-9bc409dc4bb6",
   "metadata": {},
   "outputs": [],
   "source": [
    "#Lib\n",
    "import pandas as pd\n",
    "import numpy as np\n",
    "from datetime import datetime\n",
    "from matplotlib import pyplot as plt\n",
    "import seaborn as sns\n",
    "import calendar"
   ]
  },
  {
   "cell_type": "code",
   "execution_count": 92,
   "id": "ace39bdd-47df-4d05-8c8e-5d07ddd92ea0",
   "metadata": {},
   "outputs": [
    {
     "data": {
      "text/plain": [
       "'\\n- est-ce que les films moins connus sont mieux notés ? (corrélation négative entre Note_moyenne et Nb_votes ?)\\n- Note_moyenne en fonction de la durée\\n- Note_moyenne en fonction des genres (histogramme)\\n- Note_moyenne en fonction du mois\\n- Note_moyenne en fonction des scores (actors and directors)\\n'"
      ]
     },
     "execution_count": 92,
     "metadata": {},
     "output_type": "execute_result"
    }
   ],
   "source": [
    "#LISTE DES STATS DES POSSIBLES\n",
    "\n",
    "#Observations générales\n",
    "'''\n",
    "- boxplots\n",
    "- describe/summary (uniquement pour les colonnes : scores, note moyenne, nb votes, durée)\n",
    "'''\n",
    "\n",
    "#Calculs d'effectifs/répartition/proportions\n",
    "'''\n",
    "- Evolution dans le temps des effectifs de film produits\n",
    "- groupby month => effectifs de films produits en fonction de la période de l'année\n",
    "- recoder les var quanti en déciles\n",
    "'''\n",
    "\n",
    "#Plots \n",
    "'''\n",
    "- est-ce que les films moins connus sont mieux notés ? (corrélation négative entre Note_moyenne et Nb_votes ?)\n",
    "- Note_moyenne en fonction de la durée\n",
    "- Note_moyenne en fonction des genres (histogramme)\n",
    "- Note_moyenne en fonction du mois\n",
    "- Note_moyenne en fonction des scores (actors and directors)\n",
    "'''"
   ]
  },
  {
   "cell_type": "code",
   "execution_count": 141,
   "id": "dca50315-a309-42a0-a06f-83a1b37327a1",
   "metadata": {},
   "outputs": [
    {
     "name": "stderr",
     "output_type": "stream",
     "text": [
      "/tmp/ipykernel_128/1163823738.py:12: SettingWithCopyWarning: \n",
      "A value is trying to be set on a copy of a slice from a DataFrame.\n",
      "Try using .loc[row_indexer,col_indexer] = value instead\n",
      "\n",
      "See the caveats in the documentation: https://pandas.pydata.org/pandas-docs/stable/user_guide/indexing.html#returning-a-view-versus-a-copy\n",
      "  movies_rating_filtré['url']='/title/'+movies_rating_filtré['ID']+'/'\n",
      "/tmp/ipykernel_128/1163823738.py:24: FutureWarning: In a future version of pandas all arguments of DataFrame.drop except for the argument 'labels' will be keyword-only.\n",
      "  df_fusionné.drop(index_with_nan,0, inplace=True)\n"
     ]
    },
    {
     "name": "stdout",
     "output_type": "stream",
     "text": [
      "<class 'pandas.core.series.Series'>\n"
     ]
    }
   ],
   "source": [
    "#récupérer la base de données complète\n",
    "movies_rating = pd.read_csv(\"https://datasets.imdbws.com/title.ratings.tsv.gz\")\n",
    "movies_rating_clean = movies_rating[\"tconst\\taverageRating\\tnumVotes\"].str.split(\"\\\\t\", expand=True)\n",
    "movies_rating_clean.columns = ['ID', 'Note_moyenne', 'Nombre_de_votes']\n",
    "movies_rating_clean['Note_moyenne'] = movies_rating_clean['Note_moyenne'].astype(float)\n",
    "movies_rating_clean['Nombre_de_votes'] = movies_rating_clean['Nombre_de_votes'].astype(float)\n",
    "movies_rating_filtré = movies_rating_clean[movies_rating_clean.Nombre_de_votes > 1999]\n",
    "\n",
    "df = pd.read_csv('https://raw.githubusercontent.com/Jeremstar/Succes_de_films-IMDb/main/Database/IMDB_2000votes.csv', \n",
    "                 converters={\"actor\": lambda x: x.strip(\"[]\").split(\", \"), 'director': lambda y : y.strip(\"[]\").split(\", \"),\"genre\": lambda x: x.strip(\"[]\").split(\", \")}) \n",
    "\n",
    "movies_rating_filtré['url']='/title/'+movies_rating_filtré['ID']+'/'\n",
    "df_fusionné = df.merge(movies_rating_filtré, on='url',how='left')\n",
    "\n",
    "df_fusionné = df_fusionné.reindex(columns=['ID_y','name','alternateName','url','contentRating','datePublished','genre','actor','director','creator','Origine','Budget','duration','keywords','Note_moyenne','Nombre_de_votes','ID_x'])\t\n",
    "df_fusionné =df_fusionné.drop(['ID_x', 'Budget', 'alternateName', 'creator'],axis=1) #On drop creator, pour les questions de scrap évoquées plus tôt, et budget parce qu'il est \n",
    "df_fusionné.rename(columns={'ID_y':'ID'}, inplace= True)\n",
    "\n",
    "\n",
    "\n",
    "\n",
    "#recodage mois + création colonne mois en français\n",
    "index_with_nan = df.index[df_fusionné.loc[:,'datePublished'].isnull()]\n",
    "df_fusionné.drop(index_with_nan,0, inplace=True)\n",
    "\n",
    "df_fusionné['month'] = pd.DatetimeIndex(df_fusionné['datePublished']).month\n",
    "df_fusionné['month'] = df_fusionné['month'].astype(int)\n",
    "df_fusionné['month_name'] = df_fusionné['month'].apply(lambda x: calendar.month_abbr[x])\n",
    "\n",
    "\n",
    "\n",
    "#corrections\n",
    "def correcteur(colonne, old, new) :\n",
    "    if type(df_fusionné[colonne][0]) == list :\n",
    "        all_crews = []\n",
    "        for crew in df_fusionné[colonne]:\n",
    "            crew_corrigé = []\n",
    "            if crew != [] :\n",
    "                for individu in crew :\n",
    "                    crew_corrigé.append(individu.replace(old, new))\n",
    "            all_crews.append(crew_corrigé)\n",
    "        df_fusionné[colonne] = all_crews\n",
    "    else :\n",
    "        df_fusionné[colonne]= df_fusionné[colonne].str.replace(old, new, case = False)\n",
    "        \n",
    "correcteur('actor', '&apos;', \"'\")\n",
    "correcteur('director', '&apos;', \"'\")\n",
    "correcteur('name', '&apos;', \"'\")\n",
    "\n",
    "from pandas.core.common import flatten\n",
    "\n",
    "print(type(df_fusionné['genre']))\n",
    "def valeurs_possibles (colonne) :\n",
    "    list_nonflat = df_fusionné[colonne]\n",
    "    flat_list = list(flatten(list_nonflat))\n",
    "    liste_valeurs = list(set(flat_list))\n",
    "    return liste_valeurs"
   ]
  },
  {
   "cell_type": "code",
   "execution_count": 143,
   "id": "4d2e6844-9b55-4966-93bf-10cc7fb74795",
   "metadata": {},
   "outputs": [
    {
     "data": {
      "text/html": [
       "<div>\n",
       "<style scoped>\n",
       "    .dataframe tbody tr th:only-of-type {\n",
       "        vertical-align: middle;\n",
       "    }\n",
       "\n",
       "    .dataframe tbody tr th {\n",
       "        vertical-align: top;\n",
       "    }\n",
       "\n",
       "    .dataframe thead th {\n",
       "        text-align: right;\n",
       "    }\n",
       "</style>\n",
       "<table border=\"1\" class=\"dataframe\">\n",
       "  <thead>\n",
       "    <tr style=\"text-align: right;\">\n",
       "      <th></th>\n",
       "      <th>ID</th>\n",
       "      <th>name</th>\n",
       "      <th>url</th>\n",
       "      <th>contentRating</th>\n",
       "      <th>datePublished</th>\n",
       "      <th>genre</th>\n",
       "      <th>actor</th>\n",
       "      <th>director</th>\n",
       "      <th>Origine</th>\n",
       "      <th>duration</th>\n",
       "      <th>keywords</th>\n",
       "      <th>Note_moyenne</th>\n",
       "      <th>Nombre_de_votes</th>\n",
       "      <th>month</th>\n",
       "      <th>month_name</th>\n",
       "    </tr>\n",
       "  </thead>\n",
       "  <tbody>\n",
       "    <tr>\n",
       "      <th>0</th>\n",
       "      <td>tt0000005</td>\n",
       "      <td>Blacksmith Scene</td>\n",
       "      <td>/title/tt0000005/</td>\n",
       "      <td>Unrated</td>\n",
       "      <td>1893-05-09</td>\n",
       "      <td>['Short', 'Comedy']</td>\n",
       "      <td>['Charles Kayser', 'John Ott']</td>\n",
       "      <td>['William K.L. Dickson']</td>\n",
       "      <td>United States</td>\n",
       "      <td>PT1M</td>\n",
       "      <td>blacksmith,national film registry,beer,two wor...</td>\n",
       "      <td>6.2</td>\n",
       "      <td>2555.0</td>\n",
       "      <td>5</td>\n",
       "      <td>May</td>\n",
       "    </tr>\n",
       "    <tr>\n",
       "      <th>1</th>\n",
       "      <td>tt0000008</td>\n",
       "      <td>Edison Kinetoscopic Record of a Sneeze</td>\n",
       "      <td>/title/tt0000008/</td>\n",
       "      <td>NaN</td>\n",
       "      <td>1894-01-09</td>\n",
       "      <td>['Documentary', 'Short']</td>\n",
       "      <td>['Fred Ott']</td>\n",
       "      <td>['William K.L. Dickson']</td>\n",
       "      <td>United States</td>\n",
       "      <td>PT1M</td>\n",
       "      <td>national film registry,year 1894,1890s,19th ce...</td>\n",
       "      <td>5.4</td>\n",
       "      <td>2070.0</td>\n",
       "      <td>1</td>\n",
       "      <td>Jan</td>\n",
       "    </tr>\n",
       "    <tr>\n",
       "      <th>2</th>\n",
       "      <td>tt0000010</td>\n",
       "      <td>La sortie de l'usine Lumière à Lyon</td>\n",
       "      <td>/title/tt0000010/</td>\n",
       "      <td>Not Rated</td>\n",
       "      <td>1895-03-22</td>\n",
       "      <td>['Documentary', 'Short']</td>\n",
       "      <td>[]</td>\n",
       "      <td>['Louis Lumière']</td>\n",
       "      <td>France</td>\n",
       "      <td>PT1M</td>\n",
       "      <td>reference to lumiere brothers,reference to the...</td>\n",
       "      <td>6.9</td>\n",
       "      <td>6997.0</td>\n",
       "      <td>3</td>\n",
       "      <td>Mar</td>\n",
       "    </tr>\n",
       "    <tr>\n",
       "      <th>3</th>\n",
       "      <td>tt0000012</td>\n",
       "      <td>L'arrivée d'un train à La Ciotat</td>\n",
       "      <td>/title/tt0000012/</td>\n",
       "      <td>Not Rated</td>\n",
       "      <td>1896-01-25</td>\n",
       "      <td>['Documentary', 'Short']</td>\n",
       "      <td>['Madeleine Koehler', 'Marcel Koehler', 'Mrs. ...</td>\n",
       "      <td>['Auguste Lumière', 'Louis Lumière']</td>\n",
       "      <td>France</td>\n",
       "      <td>PT1M</td>\n",
       "      <td>actuality film,year 1896,train,train station,1...</td>\n",
       "      <td>7.4</td>\n",
       "      <td>12003.0</td>\n",
       "      <td>1</td>\n",
       "      <td>Jan</td>\n",
       "    </tr>\n",
       "    <tr>\n",
       "      <th>6</th>\n",
       "      <td>tt0000070</td>\n",
       "      <td>Démolition d'un mur</td>\n",
       "      <td>/title/tt0000070/</td>\n",
       "      <td>Not Rated</td>\n",
       "      <td>1896-03-06</td>\n",
       "      <td>['Documentary', 'Short']</td>\n",
       "      <td>['Auguste Lumière']</td>\n",
       "      <td>['Louis Lumière']</td>\n",
       "      <td>France</td>\n",
       "      <td>PT1M</td>\n",
       "      <td>year 1896,demolition,1890s,19th century</td>\n",
       "      <td>6.4</td>\n",
       "      <td>2596.0</td>\n",
       "      <td>3</td>\n",
       "      <td>Mar</td>\n",
       "    </tr>\n",
       "    <tr>\n",
       "      <th>7</th>\n",
       "      <td>tt0000091</td>\n",
       "      <td>Le manoir du diable</td>\n",
       "      <td>/title/tt0000091/</td>\n",
       "      <td>Not Rated</td>\n",
       "      <td>1896-12-24</td>\n",
       "      <td>['Short', 'Horror']</td>\n",
       "      <td>['Jehanne d'Alcy', 'Jules-Eugène Legris', 'Geo...</td>\n",
       "      <td>['Georges Méliès']</td>\n",
       "      <td>France</td>\n",
       "      <td>PT3M</td>\n",
       "      <td>vampire,monster,supernatural power,psychotroni...</td>\n",
       "      <td>6.7</td>\n",
       "      <td>3560.0</td>\n",
       "      <td>12</td>\n",
       "      <td>Dec</td>\n",
       "    </tr>\n",
       "    <tr>\n",
       "      <th>10</th>\n",
       "      <td>tt0000417</td>\n",
       "      <td>Le voyage dans la lune</td>\n",
       "      <td>/title/tt0000417/</td>\n",
       "      <td>Tous publics</td>\n",
       "      <td>1902-09-01</td>\n",
       "      <td>['Short', 'Action', 'Adventure']</td>\n",
       "      <td>['Georges Méliès', 'Victor André', 'Bleuette B...</td>\n",
       "      <td>['Georges Méliès']</td>\n",
       "      <td>France</td>\n",
       "      <td>PT13M</td>\n",
       "      <td>moon,astronomer,alien,satire,jules verne</td>\n",
       "      <td>8.2</td>\n",
       "      <td>50569.0</td>\n",
       "      <td>9</td>\n",
       "      <td>Sep</td>\n",
       "    </tr>\n",
       "    <tr>\n",
       "      <th>12</th>\n",
       "      <td>tt0000439</td>\n",
       "      <td>The Great Train Robbery</td>\n",
       "      <td>/title/tt0000439/</td>\n",
       "      <td>TV-G</td>\n",
       "      <td>1904-05-08</td>\n",
       "      <td>['Short', 'Action', 'Adventure']</td>\n",
       "      <td>['Gilbert M. 'Broncho Billy' Anderson', 'A.C. ...</td>\n",
       "      <td>['Edwin S. Porter']</td>\n",
       "      <td>France</td>\n",
       "      <td>PT11M</td>\n",
       "      <td>national film registry,posse,horse,dance,passe...</td>\n",
       "      <td>7.3</td>\n",
       "      <td>19534.0</td>\n",
       "      <td>5</td>\n",
       "      <td>May</td>\n",
       "    </tr>\n",
       "    <tr>\n",
       "      <th>14</th>\n",
       "      <td>tt0000499</td>\n",
       "      <td>Le voyage à travers l'impossible</td>\n",
       "      <td>/title/tt0000499/</td>\n",
       "      <td>Not Rated</td>\n",
       "      <td>1904-07-31</td>\n",
       "      <td>['Short', 'Action', 'Adventure']</td>\n",
       "      <td>['Georges Méliès', 'Fernande Albany', 'Jehanne...</td>\n",
       "      <td>['Georges Méliès']</td>\n",
       "      <td>France</td>\n",
       "      <td>PT24M</td>\n",
       "      <td>voyage,trip,institute,alps,snow</td>\n",
       "      <td>7.5</td>\n",
       "      <td>3639.0</td>\n",
       "      <td>7</td>\n",
       "      <td>Jul</td>\n",
       "    </tr>\n",
       "    <tr>\n",
       "      <th>15</th>\n",
       "      <td>tt0000682</td>\n",
       "      <td>Fantasmagorie</td>\n",
       "      <td>/title/tt0000682/</td>\n",
       "      <td>NaN</td>\n",
       "      <td>1908-08-17</td>\n",
       "      <td>['Animation', 'Short', 'Comedy']</td>\n",
       "      <td>[]</td>\n",
       "      <td>['Émile Cohl']</td>\n",
       "      <td>France</td>\n",
       "      <td>PT2M</td>\n",
       "      <td>blown up like a balloon,male police officer,st...</td>\n",
       "      <td>6.9</td>\n",
       "      <td>2555.0</td>\n",
       "      <td>8</td>\n",
       "      <td>Aug</td>\n",
       "    </tr>\n",
       "  </tbody>\n",
       "</table>\n",
       "</div>"
      ],
      "text/plain": [
       "           ID                                    name                url  \\\n",
       "0   tt0000005                        Blacksmith Scene  /title/tt0000005/   \n",
       "1   tt0000008  Edison Kinetoscopic Record of a Sneeze  /title/tt0000008/   \n",
       "2   tt0000010     La sortie de l'usine Lumière à Lyon  /title/tt0000010/   \n",
       "3   tt0000012        L'arrivée d'un train à La Ciotat  /title/tt0000012/   \n",
       "6   tt0000070                     Démolition d'un mur  /title/tt0000070/   \n",
       "7   tt0000091                     Le manoir du diable  /title/tt0000091/   \n",
       "10  tt0000417                  Le voyage dans la lune  /title/tt0000417/   \n",
       "12  tt0000439                 The Great Train Robbery  /title/tt0000439/   \n",
       "14  tt0000499        Le voyage à travers l'impossible  /title/tt0000499/   \n",
       "15  tt0000682                           Fantasmagorie  /title/tt0000682/   \n",
       "\n",
       "   contentRating datePublished                             genre  \\\n",
       "0        Unrated    1893-05-09               ['Short', 'Comedy']   \n",
       "1            NaN    1894-01-09          ['Documentary', 'Short']   \n",
       "2      Not Rated    1895-03-22          ['Documentary', 'Short']   \n",
       "3      Not Rated    1896-01-25          ['Documentary', 'Short']   \n",
       "6      Not Rated    1896-03-06          ['Documentary', 'Short']   \n",
       "7      Not Rated    1896-12-24               ['Short', 'Horror']   \n",
       "10  Tous publics    1902-09-01  ['Short', 'Action', 'Adventure']   \n",
       "12          TV-G    1904-05-08  ['Short', 'Action', 'Adventure']   \n",
       "14     Not Rated    1904-07-31  ['Short', 'Action', 'Adventure']   \n",
       "15           NaN    1908-08-17  ['Animation', 'Short', 'Comedy']   \n",
       "\n",
       "                                                actor  \\\n",
       "0                      ['Charles Kayser', 'John Ott']   \n",
       "1                                        ['Fred Ott']   \n",
       "2                                                  []   \n",
       "3   ['Madeleine Koehler', 'Marcel Koehler', 'Mrs. ...   \n",
       "6                                 ['Auguste Lumière']   \n",
       "7   ['Jehanne d'Alcy', 'Jules-Eugène Legris', 'Geo...   \n",
       "10  ['Georges Méliès', 'Victor André', 'Bleuette B...   \n",
       "12  ['Gilbert M. 'Broncho Billy' Anderson', 'A.C. ...   \n",
       "14  ['Georges Méliès', 'Fernande Albany', 'Jehanne...   \n",
       "15                                                 []   \n",
       "\n",
       "                                director        Origine duration  \\\n",
       "0               ['William K.L. Dickson']  United States     PT1M   \n",
       "1               ['William K.L. Dickson']  United States     PT1M   \n",
       "2                      ['Louis Lumière']         France     PT1M   \n",
       "3   ['Auguste Lumière', 'Louis Lumière']         France     PT1M   \n",
       "6                      ['Louis Lumière']         France     PT1M   \n",
       "7                     ['Georges Méliès']         France     PT3M   \n",
       "10                    ['Georges Méliès']         France    PT13M   \n",
       "12                   ['Edwin S. Porter']         France    PT11M   \n",
       "14                    ['Georges Méliès']         France    PT24M   \n",
       "15                        ['Émile Cohl']         France     PT2M   \n",
       "\n",
       "                                             keywords  Note_moyenne  \\\n",
       "0   blacksmith,national film registry,beer,two wor...           6.2   \n",
       "1   national film registry,year 1894,1890s,19th ce...           5.4   \n",
       "2   reference to lumiere brothers,reference to the...           6.9   \n",
       "3   actuality film,year 1896,train,train station,1...           7.4   \n",
       "6             year 1896,demolition,1890s,19th century           6.4   \n",
       "7   vampire,monster,supernatural power,psychotroni...           6.7   \n",
       "10           moon,astronomer,alien,satire,jules verne           8.2   \n",
       "12  national film registry,posse,horse,dance,passe...           7.3   \n",
       "14                    voyage,trip,institute,alps,snow           7.5   \n",
       "15  blown up like a balloon,male police officer,st...           6.9   \n",
       "\n",
       "    Nombre_de_votes  month month_name  \n",
       "0            2555.0      5        May  \n",
       "1            2070.0      1        Jan  \n",
       "2            6997.0      3        Mar  \n",
       "3           12003.0      1        Jan  \n",
       "6            2596.0      3        Mar  \n",
       "7            3560.0     12        Dec  \n",
       "10          50569.0      9        Sep  \n",
       "12          19534.0      5        May  \n",
       "14           3639.0      7        Jul  \n",
       "15           2555.0      8        Aug  "
      ]
     },
     "execution_count": 143,
     "metadata": {},
     "output_type": "execute_result"
    }
   ],
   "source": [
    "df_fusionné.head(10)"
   ]
  },
  {
   "cell_type": "code",
   "execution_count": 126,
   "id": "f81c275a-3634-4847-a232-6f52c511ce7a",
   "metadata": {},
   "outputs": [],
   "source": [
    "# OBSERVATIONS GENERALES DES VAR QUANTI"
   ]
  },
  {
   "cell_type": "code",
   "execution_count": 100,
   "id": "257350cc-6de9-4a01-8804-3399e0b5177f",
   "metadata": {},
   "outputs": [
    {
     "data": {
      "text/plain": [
       "<AxesSubplot: >"
      ]
     },
     "execution_count": 100,
     "metadata": {},
     "output_type": "execute_result"
    },
    {
     "data": {
      "image/png": "[encoded data removed]",
      "text/plain": [
       "<Figure size 500x700 with 1 Axes>"
      ]
     },
     "metadata": {},
     "output_type": "display_data"
    }
   ],
   "source": [
    "#boxplots (attention il faut pas les lancer les 2 en mm temps)\n",
    "df_fusionné.boxplot(column=['Nombre_de_votes'], figsize=(5,7)) #bof, voir si on peut faire qqch pour voir changer l'échelle"
   ]
  },
  {
   "cell_type": "code",
   "execution_count": 101,
   "id": "60478f32-29b7-4840-b6b7-0c8ce97bbf8d",
   "metadata": {},
   "outputs": [
    {
     "data": {
      "text/plain": [
       "<AxesSubplot: >"
      ]
     },
     "execution_count": 101,
     "metadata": {},
     "output_type": "execute_result"
    },
    {
     "data": {
      "image/png": "[encoded data removed]",
      "text/plain": [
       "<Figure size 500x700 with 1 Axes>"
      ]
     },
     "metadata": {},
     "output_type": "display_data"
    }
   ],
   "source": [
    "df_fusionné.boxplot(column=['Note_moyenne'], figsize=(5,7))"
   ]
  },
  {
   "cell_type": "code",
   "execution_count": 97,
   "id": "0954f08e-cb14-4987-aa5a-f4b9efa3f6e6",
   "metadata": {},
   "outputs": [
    {
     "data": {
      "text/html": [
       "<div>\n",
       "<style scoped>\n",
       "    .dataframe tbody tr th:only-of-type {\n",
       "        vertical-align: middle;\n",
       "    }\n",
       "\n",
       "    .dataframe tbody tr th {\n",
       "        vertical-align: top;\n",
       "    }\n",
       "\n",
       "    .dataframe thead th {\n",
       "        text-align: right;\n",
       "    }\n",
       "</style>\n",
       "<table border=\"1\" class=\"dataframe\">\n",
       "  <thead>\n",
       "    <tr style=\"text-align: right;\">\n",
       "      <th></th>\n",
       "      <th>Note_moyenne</th>\n",
       "      <th>Nombre_de_votes</th>\n",
       "    </tr>\n",
       "  </thead>\n",
       "  <tbody>\n",
       "    <tr>\n",
       "      <th>count</th>\n",
       "      <td>46783.000000</td>\n",
       "      <td>4.678300e+04</td>\n",
       "    </tr>\n",
       "    <tr>\n",
       "      <th>mean</th>\n",
       "      <td>6.979213</td>\n",
       "      <td>2.495014e+04</td>\n",
       "    </tr>\n",
       "    <tr>\n",
       "      <th>std</th>\n",
       "      <td>1.308252</td>\n",
       "      <td>8.626901e+04</td>\n",
       "    </tr>\n",
       "    <tr>\n",
       "      <th>min</th>\n",
       "      <td>1.000000</td>\n",
       "      <td>2.000000e+03</td>\n",
       "    </tr>\n",
       "    <tr>\n",
       "      <th>25%</th>\n",
       "      <td>6.200000</td>\n",
       "      <td>2.896000e+03</td>\n",
       "    </tr>\n",
       "    <tr>\n",
       "      <th>50%</th>\n",
       "      <td>7.100000</td>\n",
       "      <td>4.678000e+03</td>\n",
       "    </tr>\n",
       "    <tr>\n",
       "      <th>75%</th>\n",
       "      <td>7.900000</td>\n",
       "      <td>1.235450e+04</td>\n",
       "    </tr>\n",
       "    <tr>\n",
       "      <th>max</th>\n",
       "      <td>10.000000</td>\n",
       "      <td>2.670872e+06</td>\n",
       "    </tr>\n",
       "  </tbody>\n",
       "</table>\n",
       "</div>"
      ],
      "text/plain": [
       "       Note_moyenne  Nombre_de_votes\n",
       "count  46783.000000     4.678300e+04\n",
       "mean       6.979213     2.495014e+04\n",
       "std        1.308252     8.626901e+04\n",
       "min        1.000000     2.000000e+03\n",
       "25%        6.200000     2.896000e+03\n",
       "50%        7.100000     4.678000e+03\n",
       "75%        7.900000     1.235450e+04\n",
       "max       10.000000     2.670872e+06"
      ]
     },
     "execution_count": 97,
     "metadata": {},
     "output_type": "execute_result"
    }
   ],
   "source": [
    "#tableau stats générales : scores, note moyenne, nb votes, durée (à rajouter)\n",
    "df_fusionné[['Note_moyenne','Nombre_de_votes']].describe()"
   ]
  },
  {
   "cell_type": "code",
   "execution_count": null,
   "id": "55395636-a28b-4fa8-add0-b632b787d3f6",
   "metadata": {},
   "outputs": [],
   "source": [
    "# EFFECTIFS / DISTRIBUTION DES PROPORTIONS"
   ]
  },
  {
   "cell_type": "code",
   "execution_count": 147,
   "id": "34c17ed9-dfc1-458d-afc3-17207856cfa3",
   "metadata": {},
   "outputs": [
    {
     "data": {
      "text/plain": [
       "month_name\n",
       "Apr    4099\n",
       "Aug    3147\n",
       "Dec    3679\n",
       "Feb    3529\n",
       "Jan    3900\n",
       "Jul    3185\n",
       "Jun    3176\n",
       "Mar    4019\n",
       "May    3574\n",
       "Nov    4461\n",
       "Oct    5012\n",
       "Sep    4299\n",
       "Name: ID, dtype: int64"
      ]
     },
     "execution_count": 147,
     "metadata": {},
     "output_type": "execute_result"
    }
   ],
   "source": [
    "# Nb films sortis par mois\n",
    "df_fusionné.groupby('month_name')['ID'].count()"
   ]
  },
  {
   "cell_type": "code",
   "execution_count": 148,
   "id": "cf742133-ce2f-492c-ae35-f0f350891637",
   "metadata": {},
   "outputs": [
    {
     "ename": "TypeError",
     "evalue": "ufunc 'isnan' not supported for the input types, and the inputs could not be safely coerced to any supported types according to the casting rule ''safe''",
     "output_type": "error",
     "traceback": [
      "\u001b[0;31m---------------------------------------------------------------------------\u001b[0m",
      "\u001b[0;31mTypeError\u001b[0m                                 Traceback (most recent call last)",
      "Cell \u001b[0;32mIn [148], line 2\u001b[0m\n\u001b[1;32m      1\u001b[0m \u001b[38;5;66;03m# Note moyenne par décile de films\u001b[39;00m\n\u001b[0;32m----> 2\u001b[0m df_fusionné\u001b[38;5;241m.\u001b[39mgroupby(\u001b[43mpd\u001b[49m\u001b[38;5;241;43m.\u001b[39;49m\u001b[43mqcut\u001b[49m\u001b[43m(\u001b[49m\u001b[43mdf_fusionné\u001b[49m\u001b[43m[\u001b[49m\u001b[38;5;124;43m'\u001b[39;49m\u001b[38;5;124;43mID\u001b[39;49m\u001b[38;5;124;43m'\u001b[39;49m\u001b[43m]\u001b[49m\u001b[43m,\u001b[49m\u001b[43m \u001b[49m\u001b[38;5;241;43m10\u001b[39;49m\u001b[43m)\u001b[49m)[\u001b[38;5;124m'\u001b[39m\u001b[38;5;124mNote_moyenne\u001b[39m\u001b[38;5;124m'\u001b[39m]\u001b[38;5;241m.\u001b[39mmean()\n",
      "File \u001b[0;32m/opt/mamba/lib/python3.10/site-packages/pandas/core/reshape/tile.py:376\u001b[0m, in \u001b[0;36mqcut\u001b[0;34m(x, q, labels, retbins, precision, duplicates)\u001b[0m\n\u001b[1;32m    373\u001b[0m quantiles \u001b[38;5;241m=\u001b[39m np\u001b[38;5;241m.\u001b[39mlinspace(\u001b[38;5;241m0\u001b[39m, \u001b[38;5;241m1\u001b[39m, q \u001b[38;5;241m+\u001b[39m \u001b[38;5;241m1\u001b[39m) \u001b[38;5;28;01mif\u001b[39;00m is_integer(q) \u001b[38;5;28;01melse\u001b[39;00m q\n\u001b[1;32m    375\u001b[0m x_np \u001b[38;5;241m=\u001b[39m np\u001b[38;5;241m.\u001b[39masarray(x)\n\u001b[0;32m--> 376\u001b[0m x_np \u001b[38;5;241m=\u001b[39m x_np[\u001b[38;5;241m~\u001b[39m\u001b[43mnp\u001b[49m\u001b[38;5;241;43m.\u001b[39;49m\u001b[43misnan\u001b[49m\u001b[43m(\u001b[49m\u001b[43mx_np\u001b[49m\u001b[43m)\u001b[49m]\n\u001b[1;32m    377\u001b[0m bins \u001b[38;5;241m=\u001b[39m np\u001b[38;5;241m.\u001b[39mquantile(x_np, quantiles)\n\u001b[1;32m    379\u001b[0m fac, bins \u001b[38;5;241m=\u001b[39m _bins_to_cuts(\n\u001b[1;32m    380\u001b[0m     x,\n\u001b[1;32m    381\u001b[0m     bins,\n\u001b[0;32m   (...)\u001b[0m\n\u001b[1;32m    386\u001b[0m     duplicates\u001b[38;5;241m=\u001b[39mduplicates,\n\u001b[1;32m    387\u001b[0m )\n",
      "\u001b[0;31mTypeError\u001b[0m: ufunc 'isnan' not supported for the input types, and the inputs could not be safely coerced to any supported types according to the casting rule ''safe''"
     ]
    }
   ],
   "source": [
    "# Note moyenne par décile de films\n",
    "df_fusionné.groupby(pd.qcut(df_fusionné['ID'], 10))['Note_moyenne'].mean()"
   ]
  },
  {
   "cell_type": "code",
   "execution_count": null,
   "id": "5af16bb7-f329-4138-9be4-38150b2b6d26",
   "metadata": {},
   "outputs": [],
   "source": [
    "#j'y arrive pas mais il faut modifier les dates pour faire le graphe d'évolution des effectifs des films sortis\n",
    "\n",
    "index_with_nan = df.index[df_fusionné.loc[:,'datePublished'].isnull()]\n",
    "df_fusionné.drop(index_with_nan,0, inplace=True)\n",
    "\n",
    "\n",
    "#df_fusionné['datePublished'] = df_fusionné['datePublished'].astype(str)\n",
    "#print(type(df_fusionné['datePublished'][9]))\n",
    "#df_fusionné\n",
    "df_fusionné['datePublished'].apply(lambda x: datetime.strptime(x, '%Y-%m-%d'))\n",
    "dateteime.datetime.strftime(datetime_object, '%b')"
   ]
  },
  {
   "cell_type": "code",
   "execution_count": 5,
   "id": "927b552e-c13d-4a74-81b0-0ba7b407df19",
   "metadata": {},
   "outputs": [
    {
     "data": {
      "text/plain": [
       "<AxesSubplot: >"
      ]
     },
     "execution_count": 5,
     "metadata": {},
     "output_type": "execute_result"
    },
    {
     "data": {
      "image/png": "[encoded data removed]",
      "text/plain": [
       "<Figure size 640x480 with 1 Axes>"
      ]
     },
     "metadata": {},
     "output_type": "display_data"
    }
   ],
   "source": [
    "df_fusionné['Note_moyenne'].hist()"
   ]
  },
  {
   "cell_type": "code",
   "execution_count": 6,
   "id": "7ef54df6-b10d-4886-9227-c5b026dc14fa",
   "metadata": {},
   "outputs": [
    {
     "name": "stderr",
     "output_type": "stream",
     "text": [
      "/tmp/ipykernel_128/2106022310.py:1: FutureWarning: The default value of numeric_only in DataFrameGroupBy.mean is deprecated. In a future version, numeric_only will default to False. Either specify numeric_only or select only columns which should be valid for the function.\n",
      "  df_fusionné.groupby('Origine').mean()\n"
     ]
    },
    {
     "data": {
      "text/html": [
       "<div>\n",
       "<style scoped>\n",
       "    .dataframe tbody tr th:only-of-type {\n",
       "        vertical-align: middle;\n",
       "    }\n",
       "\n",
       "    .dataframe tbody tr th {\n",
       "        vertical-align: top;\n",
       "    }\n",
       "\n",
       "    .dataframe thead th {\n",
       "        text-align: right;\n",
       "    }\n",
       "</style>\n",
       "<table border=\"1\" class=\"dataframe\">\n",
       "  <thead>\n",
       "    <tr style=\"text-align: right;\">\n",
       "      <th></th>\n",
       "      <th>Note_moyenne</th>\n",
       "      <th>Nombre_de_votes</th>\n",
       "    </tr>\n",
       "    <tr>\n",
       "      <th>Origine</th>\n",
       "      <th></th>\n",
       "      <th></th>\n",
       "    </tr>\n",
       "  </thead>\n",
       "  <tbody>\n",
       "    <tr>\n",
       "      <th>Albania</th>\n",
       "      <td>6.800000</td>\n",
       "      <td>2005.000000</td>\n",
       "    </tr>\n",
       "    <tr>\n",
       "      <th>Argentina</th>\n",
       "      <td>6.725714</td>\n",
       "      <td>9917.971429</td>\n",
       "    </tr>\n",
       "    <tr>\n",
       "      <th>Armenia</th>\n",
       "      <td>6.033333</td>\n",
       "      <td>9292.666667</td>\n",
       "    </tr>\n",
       "    <tr>\n",
       "      <th>Aruba</th>\n",
       "      <td>4.100000</td>\n",
       "      <td>4807.000000</td>\n",
       "    </tr>\n",
       "    <tr>\n",
       "      <th>Australia</th>\n",
       "      <td>6.578049</td>\n",
       "      <td>7724.222997</td>\n",
       "    </tr>\n",
       "    <tr>\n",
       "      <th>...</th>\n",
       "      <td>...</td>\n",
       "      <td>...</td>\n",
       "    </tr>\n",
       "    <tr>\n",
       "      <th>Venezuela</th>\n",
       "      <td>7.025000</td>\n",
       "      <td>4385.500000</td>\n",
       "    </tr>\n",
       "    <tr>\n",
       "      <th>Vietnam</th>\n",
       "      <td>5.500000</td>\n",
       "      <td>6168.384615</td>\n",
       "    </tr>\n",
       "    <tr>\n",
       "      <th>West Germany</th>\n",
       "      <td>6.324390</td>\n",
       "      <td>4345.707317</td>\n",
       "    </tr>\n",
       "    <tr>\n",
       "      <th>World-wide</th>\n",
       "      <td>6.900000</td>\n",
       "      <td>4697.500000</td>\n",
       "    </tr>\n",
       "    <tr>\n",
       "      <th>Yugoslavia</th>\n",
       "      <td>7.982353</td>\n",
       "      <td>4004.235294</td>\n",
       "    </tr>\n",
       "  </tbody>\n",
       "</table>\n",
       "<p>106 rows × 2 columns</p>\n",
       "</div>"
      ],
      "text/plain": [
       "              Note_moyenne  Nombre_de_votes\n",
       "Origine                                    \n",
       "Albania           6.800000      2005.000000\n",
       "Argentina         6.725714      9917.971429\n",
       "Armenia           6.033333      9292.666667\n",
       "Aruba             4.100000      4807.000000\n",
       "Australia         6.578049      7724.222997\n",
       "...                    ...              ...\n",
       "Venezuela         7.025000      4385.500000\n",
       "Vietnam           5.500000      6168.384615\n",
       "West Germany      6.324390      4345.707317\n",
       "World-wide        6.900000      4697.500000\n",
       "Yugoslavia        7.982353      4004.235294\n",
       "\n",
       "[106 rows x 2 columns]"
      ]
     },
     "execution_count": 6,
     "metadata": {},
     "output_type": "execute_result"
    }
   ],
   "source": [
    "df_fusionné.groupby('Origine').mean()"
   ]
  },
  {
   "cell_type": "code",
   "execution_count": null,
   "id": "3c3e99ba-ab1c-4202-9ebf-862922e49386",
   "metadata": {},
   "outputs": [],
   "source": [
    "df_fusionné.groupby('month').mean()"
   ]
  },
  {
   "cell_type": "code",
   "execution_count": null,
   "id": "4e5d50f0-cbf8-46f6-b36d-451352c9f820",
   "metadata": {},
   "outputs": [],
   "source": [
    "df_fusionné.groupby(['month','Origine']).mean()"
   ]
  },
  {
   "cell_type": "code",
   "execution_count": null,
   "id": "2230d299-3441-452c-8022-7b9bb32be043",
   "metadata": {},
   "outputs": [],
   "source": []
  }
 ],
 "metadata": {
  "kernelspec": {
   "display_name": "Python 3 (ipykernel)",
   "language": "python",
   "name": "python3"
  },
  "language_info": {
   "codemirror_mode": {
    "name": "ipython",
    "version": 3
   },
   "file_extension": ".py",
   "mimetype": "text/x-python",
   "name": "python",
   "nbconvert_exporter": "python",
   "pygments_lexer": "ipython3",
   "version": "3.10.4"
  }
 },
 "nbformat": 4,
 "nbformat_minor": 5
}
